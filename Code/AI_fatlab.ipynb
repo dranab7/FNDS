{
 "cells": [
  {
   "cell_type": "code",
   "execution_count": null,
   "metadata": {
    "colab": {
     "base_uri": "https://localhost:8080/"
    },
    "id": "BQmMraor-9wb",
    "outputId": "0c82d4fb-55d3-45c1-d885-7f5f479860dc"
   },
   "outputs": [
    {
     "name": "stdout",
     "output_type": "stream",
     "text": [
      "Enter your starting destinationIndia\n",
      "Enter your 2nd destinationDubai\n"
     ]
    }
   ],
   "source": [
    "da=input(\"Enter your starting destination\")\n",
    "db=input(\"Enter your 2nd destination\")"
   ]
  },
  {
   "cell_type": "code",
   "execution_count": null,
   "metadata": {
    "colab": {
     "base_uri": "https://localhost:8080/"
    },
    "id": "fep3PCPiXck8",
    "outputId": "5b01b511-e3b3-453c-d9ec-55a2eb7274cc"
   },
   "outputs": [
    {
     "name": "stdout",
     "output_type": "stream",
     "text": [
      "enter your visiting duration5\n"
     ]
    }
   ],
   "source": [
    "days=int(input(\"enter your visiting duration\"))"
   ]
  },
  {
   "cell_type": "code",
   "execution_count": null,
   "metadata": {
    "colab": {
     "base_uri": "https://localhost:8080/"
    },
    "id": "z5WEfb8jVvxT",
    "outputId": "5769d56d-1eac-48e8-c4c7-6c549ba4fde8"
   },
   "outputs": [
    {
     "name": "stdout",
     "output_type": "stream",
     "text": [
      "Ënter number of adults2\n",
      "Ënter number of kidss2\n"
     ]
    }
   ],
   "source": [
    "adults = int(input(\"Ënter number of adults\"))\n",
    "kids = int(input(\"Ënter number of kidss\"))\n"
   ]
  },
  {
   "cell_type": "code",
   "execution_count": null,
   "metadata": {
    "colab": {
     "base_uri": "https://localhost:8080/"
    },
    "id": "Be7Ry8xh_tX4",
    "outputId": "94c04bc3-3928-45cd-8f3f-639d2230febf"
   },
   "outputs": [
    {
     "name": "stdout",
     "output_type": "stream",
     "text": [
      "ways to spend money are : \n",
      "1. Airways cost : 200$ per Adult and 150$ for kid\n",
      "2. Hotel cost 200$ per Adult and 150$ for kid\n",
      "3. visa applying cost 100$ per Adult and 50$ for kid\n",
      "4. buying souveniers 200$ \n",
      "5. food 100$ per Adult and 50$ for kid for 1 day\n",
      "6. shopping for travel 500$\n",
      "7. visiting burj khalifa 300$ per Adult and 200$ for kid\n",
      "8. going to ferrari world theme park 250$ per Adult and 200$ for kid\n",
      "9. going to the dubai aquarium 100$ per Adult and 50$ for kid\n",
      "10. travelling in dubai 50$ per Adult and 25$ for kid\n",
      "11. buying gifts for yourself 500$\n",
      "12. going on a cruise ride 300$ per Adult and 250$ for kid\n",
      "13. going for sightseeing 100$ per Adult and 50$ for kid\n",
      "14. going on a helicopter ride of Dubai 500$ per Adult and 400$ for kid\n",
      "15. visiting the internation F1 race circuit 200$ per Adult and 150$ for kid\n"
     ]
    }
   ],
   "source": [
    "print(\"Money spent on following things : \")\n",
    "print(\"1. Airways cost single trip: 200$ per Adult and 150$ for kid\")\n",
    "print(\"2. Hotel cost per day is 100$ per Adult and 50$ for kid\")\n",
    "print(\"3. visa applying cost 100$ per Adult and 50$ for kid\")\n",
    "print(\"4. buying souveniers 200$ \")\n",
    "print(\"5. food 100$ per Adult and 50$ for kid for 1 day\")\n",
    "print(\"6. shopping for travel 500$\")\n",
    "print(\"7. visiting burj khalifa 300$ per Adult and 200$ for kid\")\n",
    "print(\"8. going to ferrari world theme park 250$ per Adult and 200$ for kid\")\n",
    "print(\"9. going to the dubai aquarium 100$ per Adult and 50$ for kid\")\n",
    "print(\"10. travelling in dubai 50$ per Adult and 25$ for kid\")\n",
    "print(\"11. buying gifts for yourself 500$\")\n",
    "print(\"12. going on a cruise ride 300$ per Adult and 250$ for kid\")\n",
    "print(\"13. going for sightseeing 100$ per Adult and 50$ for kid\")\n",
    "print(\"14. going on a helicopter ride of Dubai 500$ per Adult and 400$ for kid\")\n",
    "print(\"15. visiting the internation F1 race circuit 200$ per Adult and 150$ for kid\")\n",
    "\n"
   ]
  },
  {
   "cell_type": "code",
   "execution_count": null,
   "metadata": {
    "colab": {
     "base_uri": "https://localhost:8080/"
    },
    "id": "QGF1zRSbB-Nh",
    "outputId": "f5e6be88-ff75-4554-c064-16d214a4a55b"
   },
   "outputs": [
    {
     "name": "stdout",
     "output_type": "stream",
     "text": [
      "Round trip cost for airplane is 700 $\n",
      "total hotel stay for  5 days is  1500 $\n",
      "Applying country visa for all is 300 $\n"
     ]
    }
   ],
   "source": [
    "# cut for 1 2 3 \n",
    "airplane = (adults*200+kids*150)\n",
    "print(\"Round trip cost for airplane is\",airplane,'$')\n",
    "hotel= (adults*100+kids*50)*5\n",
    "print(\"total hotel stay for \",days ,\"days is \",hotel,'$')\n",
    "visa = (adults*100+kids*50)\n",
    "print(\"Applying country visa for all is\",visa,'$')"
   ]
  },
  {
   "cell_type": "code",
   "execution_count": null,
   "metadata": {
    "colab": {
     "base_uri": "https://localhost:8080/"
    },
    "id": "roel2xL__XK5",
    "outputId": "8c0f7214-334d-459b-f9f0-272bb7d89f5c"
   },
   "outputs": [
    {
     "name": "stdout",
     "output_type": "stream",
     "text": [
      "how many number of activites would you like to do today4\n",
      "enter number of adults2\n",
      "enter number of kids1\n",
      "this is the first day\n",
      "Enter the services done from 1 to 15\n",
      "12\n",
      "11\n",
      "4\n",
      "5\n",
      "1800\n"
     ]
    }
   ],
   "source": [
    "#day1\n",
    "print(\"this is the first day\")\n",
    "acts=int(input(\"how many number of activites would you like to do today\"))\n",
    "total =0\n",
    "x=int(input(\"enter number of adults\"))\n",
    "y=int(input(\"enter number of kids\"))\n",
    "\n",
    "print(\"Enter the services done from 4 to 15\")\n",
    "for i in range(acts):\n",
    "  i=int(input())\n",
    "  if(i==1):\n",
    "    total+=(200*x+150*y)\n",
    "  if(i==2):\n",
    "    total+=(200*x+150*y)\n",
    "  if(i==3):\n",
    "    total+=(100*x+50*y)\n",
    "  if(i==4):\n",
    "    total+=(200)\n",
    "  if(i==5):\n",
    "    total+=(100*x+50*y)\n",
    "  if(i==6):\n",
    "    total+=(500)\n",
    "  if(i==7):\n",
    "    total+=(300*x+200*y)\n",
    "  if(i==8):\n",
    "    total+=(250*x+200*y)\n",
    "  if(i==9):\n",
    "    total+=(100*x+50*y)\n",
    "  if(i==10):\n",
    "    total+=(50*x+25*y)\n",
    "  if(i==11):\n",
    "    total+=(500)\n",
    "  if(i==12):\n",
    "    total+=(300*x+250*y)\n",
    "  if(i==13):\n",
    "    total+=(100*x+50*y)\n",
    "  if(i==14):\n",
    "    total+=(500)\n",
    "  if(i==15):\n",
    "    total+=(200*x+150*y)\n",
    "print(total)\n",
    "\n",
    "\n",
    "\n",
    "\n",
    "\n",
    "\n",
    "\n"
   ]
  },
  {
   "cell_type": "code",
   "execution_count": null,
   "metadata": {
    "colab": {
     "base_uri": "https://localhost:8080/"
    },
    "id": "Gkzl-kitG4w6",
    "outputId": "edbf19ec-1d39-40a5-faa4-84e93b427ea1"
   },
   "outputs": [
    {
     "name": "stdout",
     "output_type": "stream",
     "text": [
      "how many number of activites would you like to do today2\n",
      "enter number of adults13\n",
      "enter number of kids15\n",
      "this is the first day\n",
      "Enter the services done from 1 to 15\n",
      "13\n",
      "15\n",
      "6900\n"
     ]
    }
   ],
   "source": [
    "#day2\n",
    "print(\"this is the second day\")\n",
    "acts2=int(input(\"how many number of activites would you like to do today\"))\n",
    "total2 =0\n",
    "x2=int(input(\"enter number of adults\"))\n",
    "y2=int(input(\"enter number of kids\"))\n",
    "\n",
    "print(\"Enter the services done from 4 to 15\")\n",
    "for i in range(acts2):\n",
    "  i=int(input())\n",
    "  if(i==1):\n",
    "    total2+=(200*x2+150*y2)\n",
    "  if(i==2):\n",
    "    total2+=(200*x2+150*y2)\n",
    "  if(i==3):\n",
    "    total2+=(100*x2+50*y2)\n",
    "  if(i==4):\n",
    "    total2+=(200)\n",
    "  if(i==5):\n",
    "    total2+=(100*x2+50*2)\n",
    "  if(i==6):\n",
    "    total2+=(500)\n",
    "  if(i==7):\n",
    "    total2+=(300*x2+200*y2)\n",
    "  if(i==8):\n",
    "    total2+=(250*x2+200*y2)\n",
    "  if(i==9):\n",
    "    total2+=(100*x2+50*y2)\n",
    "  if(i==10):\n",
    "    total2+=(50*x2+25*y2)\n",
    "  if(i==11):\n",
    "    total2+=(500)\n",
    "  if(i==12):\n",
    "    total2+=(300*x2+250*y2)\n",
    "  if(i==13):\n",
    "    total2+=(100*x2+50*y2)\n",
    "  if(i==14):\n",
    "    total2+=(500)\n",
    "  if(i==15):\n",
    "    total2+=(200*x2+150*y2)\n",
    "print(total2)\n"
   ]
  },
  {
   "cell_type": "code",
   "execution_count": null,
   "metadata": {
    "colab": {
     "base_uri": "https://localhost:8080/"
    },
    "id": "JS_JPxBqG89a",
    "outputId": "1891e846-68a1-47e6-ec8c-86a9e0497ba4"
   },
   "outputs": [
    {
     "name": "stdout",
     "output_type": "stream",
     "text": [
      "how many number of activites would you like to do today5\n",
      "enter number of adults1\n",
      "enter number of kids2\n",
      "this is the first day\n",
      "Enter the services done from 1 to 15\n",
      "1\n",
      "2\n",
      "3\n",
      "4\n",
      "5\n",
      "1600\n"
     ]
    }
   ],
   "source": [
    "#day3\n",
    "print(\"this is the third day\")\n",
    "acts3=int(input(\"how many number of activites would you like to do today\"))\n",
    "total3 =0\n",
    "x3=int(input(\"enter number of adults\"))\n",
    "y3=int(input(\"enter number of kids\"))\n",
    "\n",
    "print(\"Enter the services done from 4 to 15\")\n",
    "for i in range(acts3):\n",
    "  i=int(input())\n",
    "  if(i==1):\n",
    "    total3+=(200*x3+150*y3)\n",
    "  if(i==2):\n",
    "    total3+=(200*x3+150*y3)\n",
    "  if(i==3):\n",
    "    total3+=(100*x3+50*y3)\n",
    "  if(i==4):\n",
    "    total3+=(200)\n",
    "  if(i==5):\n",
    "    total3+=(100*x3+50*y3)\n",
    "  if(i==6):\n",
    "    total3+=(500)\n",
    "  if(i==7):\n",
    "    total3+=(300*x3+200*y3)\n",
    "  if(i==8):\n",
    "    total3+=(250*x3+200*y3)\n",
    "  if(i==9):\n",
    "    total3+=(100*x3+50*y3)\n",
    "  if(i==10):\n",
    "    total3+=(50*x3+25*y3)\n",
    "  if(i==11):\n",
    "    total3+=(500)\n",
    "  if(i==12):\n",
    "    total3+=(300*x3+250*y3)\n",
    "  if(i==13):\n",
    "    total3+=(100*x3+50*y3)\n",
    "  if(i==14):\n",
    "    total3+=(500)\n",
    "  if(i==15):\n",
    "    total3+=(200*x3+150*y3)\n",
    "print(total32)\n"
   ]
  },
  {
   "cell_type": "code",
   "execution_count": null,
   "metadata": {
    "colab": {
     "base_uri": "https://localhost:8080/"
    },
    "id": "0P8AQ7q0G_Hi",
    "outputId": "167be899-31d7-4a72-b893-60a09c170a4f"
   },
   "outputs": [
    {
     "name": "stdout",
     "output_type": "stream",
     "text": [
      "how many number of activites would you like to do today2\n",
      "enter number of adults7\n",
      "enter number of kids1\n",
      "this is the first day\n",
      "Enter the services done from 1 to 15\n",
      "6\n",
      "7\n",
      "2800\n"
     ]
    }
   ],
   "source": [
    "#day4\n",
    "print(\"this is the fourth day\")\n",
    "acts4=int(input(\"how many number of activites would you like to do today\"))\n",
    "total4 =0\n",
    "x4=int(input(\"enter number of adults\"))\n",
    "y4=int(input(\"enter number of kids\"))\n",
    "\n",
    "print(\"Enter the services done from 4 to 15\")\n",
    "for i in range(acts4):\n",
    "  i=int(input())\n",
    "  if(i==1):\n",
    "    total4+=(200*x4+150*y4)\n",
    "  if(i==2):\n",
    "    total4+=(200*x4+150*y4)\n",
    "  if(i==3):\n",
    "    total4+=(100*x4+50*y4)\n",
    "  if(i==4):\n",
    "    total4+=(200)\n",
    "  if(i==5):\n",
    "    total4+=(100*x4+50*y4)\n",
    "  if(i==6):\n",
    "    total4+=(500)\n",
    "  if(i==7):\n",
    "    total4+=(300*x4+200*y4)\n",
    "  if(i==8):\n",
    "    total4+=(250*x4+200*y4)\n",
    "  if(i==9):\n",
    "    total4+=(100*x4+50*y4)\n",
    "  if(i==10):\n",
    "    total4+=(50*x4+25*y4)\n",
    "  if(i==11):\n",
    "    total4+=(500)\n",
    "  if(i==12):\n",
    "    total4+=(300*x4+250*y4)\n",
    "  if(i==13):\n",
    "    total4+=(100*x4+50*y4)\n",
    "  if(i==14):\n",
    "    total4+=(500)\n",
    "  if(i==15):\n",
    "    total4+=(200*x4+150*y4)\n",
    "print(total4)\n"
   ]
  },
  {
   "cell_type": "code",
   "execution_count": null,
   "metadata": {
    "colab": {
     "base_uri": "https://localhost:8080/"
    },
    "id": "u43I04w8HA0p",
    "outputId": "febcbac3-301c-45e1-90e8-88f8ca5c71c1"
   },
   "outputs": [
    {
     "name": "stdout",
     "output_type": "stream",
     "text": [
      "how many number of activites would you like to do today1\n",
      "enter number of adults2\n",
      "enter number of kids1\n",
      "this is the first day\n",
      "Enter the services done from 1 to 15\n",
      "8\n",
      "700\n"
     ]
    }
   ],
   "source": [
    "#day5\n",
    "print(\"this is the fifth day\")\n",
    "acts5=int(input(\"how many number of activites would you like to do today\"))\n",
    "total5 =0\n",
    "x5=int(input(\"enter number of adults\"))\n",
    "y5=int(input(\"enter number of kids\"))\n",
    "\n",
    "print(\"Enter the services done from 4 to 15\")\n",
    "for i in range(acts5):\n",
    "  i=int(input())\n",
    "  if(i==1):\n",
    "    total5+=(200*x5+150*y5)\n",
    "  if(i==2):\n",
    "    total5+=(200*x5+150*y5)\n",
    "  if(i==3):\n",
    "    total5+=(100*x5+50*y5)\n",
    "  if(i==4):\n",
    "    total5+=(200)\n",
    "  if(i==5):\n",
    "    total5+=(100*x5+50*y5)\n",
    "  if(i==6):\n",
    "    total5+=(500)\n",
    "  if(i==7):\n",
    "    total5+=(300*x5+200*y5)\n",
    "  if(i==8):\n",
    "    total5+=(250*x5+200*y5)\n",
    "  if(i==9):\n",
    "    total5+=(100*x5+50*y5)\n",
    "  if(i==10):\n",
    "    total5+=(50*x5+25*y5)\n",
    "  if(i==11):\n",
    "    total5+=(500)\n",
    "  if(i==12):\n",
    "    total5+=(300*x5+250*y5)\n",
    "  if(i==13):\n",
    "    total5+=(100*x5+50*y5)\n",
    "  if(i==14):\n",
    "    total5+=(500)\n",
    "  if(i==15):\n",
    "    total5+=(200*x5+150*y5)\n",
    "print(total5)\n"
   ]
  },
  {
   "cell_type": "code",
   "execution_count": null,
   "metadata": {
    "colab": {
     "base_uri": "https://localhost:8080/"
    },
    "id": "252wPkZGKKzR",
    "outputId": "fb4a94e5-8529-4175-ced2-4012bde61c95"
   },
   "outputs": [
    {
     "name": "stdout",
     "output_type": "stream",
     "text": [
      "total =  13800\n"
     ]
    }
   ],
   "source": [
    "allTotal = total+total2+total3+total4+total5\n",
    "print(\"total = \",allTotal )"
   ]
  }
 ],
 "metadata": {
  "colab": {
   "name": "AI_fatlab.ipynb",
   "provenance": []
  },
  "kernelspec": {
   "display_name": "Python 3",
   "language": "python",
   "name": "python3"
  },
  "language_info": {
   "codemirror_mode": {
    "name": "ipython",
    "version": 3
   },
   "file_extension": ".py",
   "mimetype": "text/x-python",
   "name": "python",
   "nbconvert_exporter": "python",
   "pygments_lexer": "ipython3",
   "version": "3.7.9"
  }
 },
 "nbformat": 4,
 "nbformat_minor": 1
}
